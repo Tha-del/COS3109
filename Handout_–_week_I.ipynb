{
  "nbformat": 4,
  "nbformat_minor": 0,
  "metadata": {
    "colab": {
      "provenance": []
    },
    "kernelspec": {
      "name": "python3",
      "display_name": "Python 3"
    },
    "language_info": {
      "name": "python"
    }
  },
  "cells": [
    {
      "cell_type": "markdown",
      "source": [
        "**Colab Specifics: to run commands at the VM’s terminal, prefix the line with an exclamation point (!)**"
      ],
      "metadata": {
        "id": "l_M5YREK0uaF"
      }
    },
    {
      "cell_type": "code",
      "source": [
        "print(\"\\nDoing $ls on filesystem\")\n",
        "!ls -l\n",
        "!pwd"
      ],
      "metadata": {
        "id": "IXoBFZTO0utM"
      },
      "execution_count": null,
      "outputs": []
    },
    {
      "cell_type": "code",
      "source": [
        "print(\"Install numpy\") # Just for test, numpy is actually preinstalled inall Colab instancs\n",
        "!pip install numpy"
      ],
      "metadata": {
        "id": "F2mzIzbD6CCr"
      },
      "execution_count": null,
      "outputs": []
    },
    {
      "cell_type": "markdown",
      "source": [
        "**Change the value from “apple” to “kiwi”, in the fruits list**"
      ],
      "metadata": {
        "id": "ncaXHocm7lP7"
      }
    },
    {
      "cell_type": "code",
      "source": [
        "fruits = [\"apple\", \"banana\", \"cherry\"]\n",
        "\n",
        "# Change the value from \"apple\" to \"kiwi\"\n",
        "fruits[0] = \"kiwi\"\n",
        "\n",
        "print(fruits)\n"
      ],
      "metadata": {
        "colab": {
          "base_uri": "https://localhost:8080/"
        },
        "id": "F_UO1nSa6tKx",
        "outputId": "3aae3af2-4270-43ad-a08a-88b17fd2cb06"
      },
      "execution_count": 11,
      "outputs": [
        {
          "output_type": "stream",
          "name": "stdout",
          "text": [
            "['kiwi', 'banana', 'cherry']\n"
          ]
        }
      ]
    },
    {
      "cell_type": "markdown",
      "source": [
        "**Use the append method to add “orange” to the fruits list:**"
      ],
      "metadata": {
        "id": "RF3kw5iY9lE9"
      }
    },
    {
      "cell_type": "code",
      "source": [
        "fruits.append('orange')\n",
        "print(fruits)\n"
      ],
      "metadata": {
        "colab": {
          "base_uri": "https://localhost:8080/"
        },
        "id": "wC6Jsnvc9sP8",
        "outputId": "67aa9049-6dab-49b9-8ba3-accbb6db9f6c"
      },
      "execution_count": 12,
      "outputs": [
        {
          "output_type": "stream",
          "name": "stdout",
          "text": [
            "['kiwi', 'banana', 'cherry', 'orange']\n"
          ]
        }
      ]
    },
    {
      "cell_type": "markdown",
      "source": [
        "**Use the insert method to add “lemon” to the fruits list:**\n",
        "\n"
      ],
      "metadata": {
        "id": "kHf9egTY-TcA"
      }
    },
    {
      "cell_type": "code",
      "source": [
        "\n",
        "fruits.insert(1, \"lemon\")\n",
        "print(fruits)\n"
      ],
      "metadata": {
        "colab": {
          "base_uri": "https://localhost:8080/"
        },
        "id": "hVf2-WjH_RVi",
        "outputId": "50ff1354-3f08-42b6-d81a-3ee1ced2f370"
      },
      "execution_count": 10,
      "outputs": [
        {
          "output_type": "stream",
          "name": "stdout",
          "text": [
            "['kiwi', 'lemon', 'banana', 'cherry', 'orange']\n"
          ]
        }
      ]
    },
    {
      "cell_type": "markdown",
      "source": [
        "** Use the remove method to delete “banana” from the fruits list:**"
      ],
      "metadata": {
        "id": "2AgQJPE-CwGW"
      }
    },
    {
      "cell_type": "code",
      "source": [
        "fruits.remove('banana')\n",
        "print(fruits)"
      ],
      "metadata": {
        "colab": {
          "base_uri": "https://localhost:8080/"
        },
        "id": "4Jsx7g8FChDc",
        "outputId": "d1325e7a-32aa-4e78-a982-f28ff4d1976c"
      },
      "execution_count": 13,
      "outputs": [
        {
          "output_type": "stream",
          "name": "stdout",
          "text": [
            "['kiwi', 'cherry', 'orange']\n"
          ]
        }
      ]
    },
    {
      "cell_type": "markdown",
      "source": [
        "**Print “Hello World” if a is greater than b:**"
      ],
      "metadata": {
        "id": "nsth_BWlSB1Y"
      }
    },
    {
      "cell_type": "code",
      "source": [
        "a = 50\n",
        "b = 10\n",
        "c = 20\n",
        "d = 20\n",
        "if a > b:\n",
        "  print(\"Hello World\")\n"
      ],
      "metadata": {
        "colab": {
          "base_uri": "https://localhost:8080/"
        },
        "id": "bseyirrKSJ7M",
        "outputId": "b9558cdd-ed45-43f4-fdc1-42dcc3d42a7a"
      },
      "execution_count": 14,
      "outputs": [
        {
          "output_type": "stream",
          "name": "stdout",
          "text": [
            "Hello World\n"
          ]
        }
      ]
    },
    {
      "cell_type": "markdown",
      "source": [
        "**Print “Yes” if a is equal to b, otherwise print “No”:**"
      ],
      "metadata": {
        "id": "wsCeXiwbS09o"
      }
    },
    {
      "cell_type": "code",
      "source": [
        "if a == b:\n",
        "  print(\"Yes\")\n",
        "else:\n",
        "  print(\"No\")\n"
      ],
      "metadata": {
        "colab": {
          "base_uri": "https://localhost:8080/"
        },
        "id": "8diGaATIS4_m",
        "outputId": "ac842aee-2817-4e49-cafd-b4973de263b5"
      },
      "execution_count": 15,
      "outputs": [
        {
          "output_type": "stream",
          "name": "stdout",
          "text": [
            "No\n"
          ]
        }
      ]
    },
    {
      "cell_type": "markdown",
      "source": [
        "**Print “1” if a is equal to b, print “2” if a is greater than b, otherwise print “3”:**"
      ],
      "metadata": {
        "id": "_Na68r0KYI1R"
      }
    },
    {
      "cell_type": "code",
      "source": [
        "if a == b:\n",
        "  print(\"1\")\n",
        "elif a > b:\n",
        "  print(\"2\")\n",
        "else:\n",
        "  print(\"3\")\n"
      ],
      "metadata": {
        "colab": {
          "base_uri": "https://localhost:8080/"
        },
        "id": "QCdLtNqnYWk2",
        "outputId": "72206dac-fa48-4eaf-fbbc-1f61053048d5"
      },
      "execution_count": 16,
      "outputs": [
        {
          "output_type": "stream",
          "name": "stdout",
          "text": [
            "2\n"
          ]
        }
      ]
    },
    {
      "cell_type": "markdown",
      "source": [
        "**Print “Hello” if a is equal to b, and c is equal to d:**"
      ],
      "metadata": {
        "id": "4sFa2lrTY86h"
      }
    },
    {
      "cell_type": "code",
      "source": [
        "if a == b and c == d:\n",
        "  print(\"Hello\")\n",
        "else:\n",
        "  print(\"None\")"
      ],
      "metadata": {
        "colab": {
          "base_uri": "https://localhost:8080/"
        },
        "id": "Hy3jd2zaZA-1",
        "outputId": "c7c26167-a737-4cf6-a601-c8dca909b84c"
      },
      "execution_count": 21,
      "outputs": [
        {
          "output_type": "stream",
          "name": "stdout",
          "text": [
            "None\n"
          ]
        }
      ]
    },
    {
      "cell_type": "markdown",
      "source": [
        "**Print “Hello” if either a is equal to b, or c is equal to d:**"
      ],
      "metadata": {
        "id": "081mn3c8Z7Yq"
      }
    },
    {
      "cell_type": "code",
      "source": [
        "if a == b or c == d:\n",
        "  print(\"Hello\")\n",
        "else:\n",
        "  print(\"No\")\n"
      ],
      "metadata": {
        "colab": {
          "base_uri": "https://localhost:8080/"
        },
        "id": "dR7DO2bAaCoU",
        "outputId": "e84d594f-cc4a-4068-f654-743d9bf8aebe"
      },
      "execution_count": 20,
      "outputs": [
        {
          "output_type": "stream",
          "name": "stdout",
          "text": [
            "Hello\n"
          ]
        }
      ]
    },
    {
      "cell_type": "markdown",
      "source": [
        "**Python Loops: Print i as long as i is less than 6:**"
      ],
      "metadata": {
        "id": "S0rCWrHnasPi"
      }
    },
    {
      "cell_type": "code",
      "source": [
        "i = 0\n",
        "while i < 6:\n",
        "  print(i)\n",
        "  i += 1\n"
      ],
      "metadata": {
        "colab": {
          "base_uri": "https://localhost:8080/"
        },
        "id": "fi76jjglaXXp",
        "outputId": "d4217f11-56b0-4f09-ee06-f44bbd123a19"
      },
      "execution_count": 22,
      "outputs": [
        {
          "output_type": "stream",
          "name": "stdout",
          "text": [
            "0\n",
            "1\n",
            "2\n",
            "3\n",
            "4\n",
            "5\n"
          ]
        }
      ]
    },
    {
      "cell_type": "markdown",
      "source": [
        "**stop the loop if i is 3:**"
      ],
      "metadata": {
        "id": "UN7RlTfKbGtd"
      }
    },
    {
      "cell_type": "code",
      "source": [
        "i = 0\n",
        "while i < 6:\n",
        "  print(i)\n",
        "  i += 1\n",
        "  if i == 3:\n",
        "    break\n"
      ],
      "metadata": {
        "colab": {
          "base_uri": "https://localhost:8080/"
        },
        "id": "H9m64KzCbKPF",
        "outputId": "5d94146e-be1c-464e-829f-53b578fec1ac"
      },
      "execution_count": 23,
      "outputs": [
        {
          "output_type": "stream",
          "name": "stdout",
          "text": [
            "0\n",
            "1\n",
            "2\n"
          ]
        }
      ]
    },
    {
      "cell_type": "markdown",
      "source": [
        "--------------------------------------------------------------------------------\n",
        "\n"
      ],
      "metadata": {
        "id": "mKa5eOMMbarT"
      }
    }
  ]
}